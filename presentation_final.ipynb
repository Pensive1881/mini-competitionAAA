{
 "cells": [
  {
   "cell_type": "code",
   "execution_count": 1,
   "metadata": {},
   "outputs": [],
   "source": [
    "from data_cleaning import loading_data, null_values\n",
    "from baseline_model import baseline\n",
    "from model_test import linear_regression, extra_trees_regressor, random_forest_regressor, decision_trees_regressor, xgb_regressor\n",
    "import seaborn as sns"
   ]
  },
  {
   "cell_type": "markdown",
   "metadata": {},
   "source": [
    "We start by loading the data and merging the the two tables."
   ]
  },
  {
   "cell_type": "code",
   "execution_count": 2,
   "metadata": {},
   "outputs": [
    {
     "name": "stderr",
     "output_type": "stream",
     "text": [
      "/Users/akasper/anaconda3/lib/python3.7/site-packages/IPython/core/interactiveshell.py:3254: DtypeWarning: Columns (7) have mixed types.Specify dtype option on import or set low_memory=False.\n",
      "  if (await self.run_code(code, result,  async_=asy)):\n"
     ]
    },
    {
     "data": {
      "text/html": [
       "<div>\n",
       "<style scoped>\n",
       "    .dataframe tbody tr th:only-of-type {\n",
       "        vertical-align: middle;\n",
       "    }\n",
       "\n",
       "    .dataframe tbody tr th {\n",
       "        vertical-align: top;\n",
       "    }\n",
       "\n",
       "    .dataframe thead th {\n",
       "        text-align: right;\n",
       "    }\n",
       "</style>\n",
       "<table border=\"1\" class=\"dataframe\">\n",
       "  <thead>\n",
       "    <tr style=\"text-align: right;\">\n",
       "      <th></th>\n",
       "      <th>Date</th>\n",
       "      <th>Store</th>\n",
       "      <th>DayOfWeek</th>\n",
       "      <th>Sales</th>\n",
       "      <th>Customers</th>\n",
       "      <th>Open</th>\n",
       "      <th>Promo</th>\n",
       "      <th>StateHoliday</th>\n",
       "      <th>SchoolHoliday</th>\n",
       "      <th>StoreType</th>\n",
       "      <th>...</th>\n",
       "      <th>CompetitionDistance</th>\n",
       "      <th>CompetitionOpenSinceMonth</th>\n",
       "      <th>CompetitionOpenSinceYear</th>\n",
       "      <th>Promo2</th>\n",
       "      <th>Promo2SinceWeek</th>\n",
       "      <th>Promo2SinceYear</th>\n",
       "      <th>PromoInterval</th>\n",
       "      <th>Month</th>\n",
       "      <th>Week</th>\n",
       "      <th>WeekOfMonth</th>\n",
       "    </tr>\n",
       "  </thead>\n",
       "  <tbody>\n",
       "    <tr>\n",
       "      <th>0</th>\n",
       "      <td>2013-01-01</td>\n",
       "      <td>1115</td>\n",
       "      <td>2.0</td>\n",
       "      <td>0.0</td>\n",
       "      <td>0.0</td>\n",
       "      <td>0.0</td>\n",
       "      <td>0.0</td>\n",
       "      <td>a</td>\n",
       "      <td>1.0</td>\n",
       "      <td>d</td>\n",
       "      <td>...</td>\n",
       "      <td>5350.0</td>\n",
       "      <td>NaN</td>\n",
       "      <td>NaN</td>\n",
       "      <td>1</td>\n",
       "      <td>22.0</td>\n",
       "      <td>2012.0</td>\n",
       "      <td>Mar,Jun,Sept,Dec</td>\n",
       "      <td>1</td>\n",
       "      <td>1</td>\n",
       "      <td>1</td>\n",
       "    </tr>\n",
       "    <tr>\n",
       "      <th>1</th>\n",
       "      <td>2013-01-01</td>\n",
       "      <td>379</td>\n",
       "      <td>2.0</td>\n",
       "      <td>0.0</td>\n",
       "      <td>0.0</td>\n",
       "      <td>0.0</td>\n",
       "      <td>0.0</td>\n",
       "      <td>a</td>\n",
       "      <td>1.0</td>\n",
       "      <td>d</td>\n",
       "      <td>...</td>\n",
       "      <td>6630.0</td>\n",
       "      <td>NaN</td>\n",
       "      <td>NaN</td>\n",
       "      <td>0</td>\n",
       "      <td>NaN</td>\n",
       "      <td>NaN</td>\n",
       "      <td>NaN</td>\n",
       "      <td>1</td>\n",
       "      <td>1</td>\n",
       "      <td>1</td>\n",
       "    </tr>\n",
       "    <tr>\n",
       "      <th>2</th>\n",
       "      <td>2013-01-01</td>\n",
       "      <td>378</td>\n",
       "      <td>2.0</td>\n",
       "      <td>0.0</td>\n",
       "      <td>0.0</td>\n",
       "      <td>0.0</td>\n",
       "      <td>0.0</td>\n",
       "      <td>a</td>\n",
       "      <td>1.0</td>\n",
       "      <td>a</td>\n",
       "      <td>...</td>\n",
       "      <td>2140.0</td>\n",
       "      <td>8.0</td>\n",
       "      <td>2012.0</td>\n",
       "      <td>0</td>\n",
       "      <td>NaN</td>\n",
       "      <td>NaN</td>\n",
       "      <td>NaN</td>\n",
       "      <td>1</td>\n",
       "      <td>1</td>\n",
       "      <td>1</td>\n",
       "    </tr>\n",
       "    <tr>\n",
       "      <th>3</th>\n",
       "      <td>2013-01-01</td>\n",
       "      <td>377</td>\n",
       "      <td>2.0</td>\n",
       "      <td>0.0</td>\n",
       "      <td>0.0</td>\n",
       "      <td>0.0</td>\n",
       "      <td>0.0</td>\n",
       "      <td>a</td>\n",
       "      <td>1.0</td>\n",
       "      <td>a</td>\n",
       "      <td>...</td>\n",
       "      <td>100.0</td>\n",
       "      <td>6.0</td>\n",
       "      <td>2010.0</td>\n",
       "      <td>1</td>\n",
       "      <td>18.0</td>\n",
       "      <td>2010.0</td>\n",
       "      <td>Feb,May,Aug,Nov</td>\n",
       "      <td>1</td>\n",
       "      <td>1</td>\n",
       "      <td>1</td>\n",
       "    </tr>\n",
       "    <tr>\n",
       "      <th>4</th>\n",
       "      <td>2013-01-01</td>\n",
       "      <td>376</td>\n",
       "      <td>2.0</td>\n",
       "      <td>0.0</td>\n",
       "      <td>0.0</td>\n",
       "      <td>0.0</td>\n",
       "      <td>0.0</td>\n",
       "      <td>a</td>\n",
       "      <td>1.0</td>\n",
       "      <td>a</td>\n",
       "      <td>...</td>\n",
       "      <td>160.0</td>\n",
       "      <td>8.0</td>\n",
       "      <td>2012.0</td>\n",
       "      <td>0</td>\n",
       "      <td>NaN</td>\n",
       "      <td>NaN</td>\n",
       "      <td>NaN</td>\n",
       "      <td>1</td>\n",
       "      <td>1</td>\n",
       "      <td>1</td>\n",
       "    </tr>\n",
       "  </tbody>\n",
       "</table>\n",
       "<p>5 rows × 21 columns</p>\n",
       "</div>"
      ],
      "text/plain": [
       "        Date  Store  DayOfWeek  Sales  Customers  Open  Promo StateHoliday  \\\n",
       "0 2013-01-01   1115        2.0    0.0        0.0   0.0    0.0            a   \n",
       "1 2013-01-01    379        2.0    0.0        0.0   0.0    0.0            a   \n",
       "2 2013-01-01    378        2.0    0.0        0.0   0.0    0.0            a   \n",
       "3 2013-01-01    377        2.0    0.0        0.0   0.0    0.0            a   \n",
       "4 2013-01-01    376        2.0    0.0        0.0   0.0    0.0            a   \n",
       "\n",
       "   SchoolHoliday StoreType  ... CompetitionDistance  \\\n",
       "0            1.0         d  ...              5350.0   \n",
       "1            1.0         d  ...              6630.0   \n",
       "2            1.0         a  ...              2140.0   \n",
       "3            1.0         a  ...               100.0   \n",
       "4            1.0         a  ...               160.0   \n",
       "\n",
       "   CompetitionOpenSinceMonth  CompetitionOpenSinceYear  Promo2  \\\n",
       "0                        NaN                       NaN       1   \n",
       "1                        NaN                       NaN       0   \n",
       "2                        8.0                    2012.0       0   \n",
       "3                        6.0                    2010.0       1   \n",
       "4                        8.0                    2012.0       0   \n",
       "\n",
       "   Promo2SinceWeek  Promo2SinceYear     PromoInterval Month  Week  WeekOfMonth  \n",
       "0             22.0           2012.0  Mar,Jun,Sept,Dec     1     1            1  \n",
       "1              NaN              NaN               NaN     1     1            1  \n",
       "2              NaN              NaN               NaN     1     1            1  \n",
       "3             18.0           2010.0   Feb,May,Aug,Nov     1     1            1  \n",
       "4              NaN              NaN               NaN     1     1            1  \n",
       "\n",
       "[5 rows x 21 columns]"
      ]
     },
     "execution_count": 2,
     "metadata": {},
     "output_type": "execute_result"
    }
   ],
   "source": [
    "data = loading_data(\"train\", \"store\")\n",
    "data.head()"
   ]
  },
  {
   "cell_type": "markdown",
   "metadata": {},
   "source": [
    "Our baseline model (mean sales) yields:"
   ]
  },
  {
   "cell_type": "code",
   "execution_count": 3,
   "metadata": {},
   "outputs": [
    {
     "name": "stdout",
     "output_type": "stream",
     "text": [
      "the RMSPE of the baseline model (mean) is 0.6163\n"
     ]
    }
   ],
   "source": [
    "baseline(data)"
   ]
  },
  {
   "cell_type": "markdown",
   "metadata": {},
   "source": [
    "Before using more sophisticated models, we have a closer look at the features:\n",
    "\n",
    "1) How many null values do they have?\n",
    "\n",
    "2) How do they correlate with the target value?"
   ]
  },
  {
   "cell_type": "code",
   "execution_count": 4,
   "metadata": {},
   "outputs": [
    {
     "name": "stdout",
     "output_type": "stream",
     "text": [
      "Column DayOfWeek has 2.9811% missing values \n",
      "\n",
      "Column Sales has 2.9823% missing values \n",
      "\n",
      "Column Customers has 2.9938% missing values \n",
      "\n",
      "Column Open has 3.014% missing values \n",
      "\n",
      "Column Promo has 3.0207% missing values \n",
      "\n",
      "Column StateHoliday has 3.0074% missing values \n",
      "\n",
      "Column SchoolHoliday has 3.0376% missing values \n",
      "\n",
      "Column CompetitionDistance has 0.2644% missing values \n",
      "\n",
      "Column CompetitionOpenSinceMonth has 31.7605% missing values \n",
      "\n",
      "Column CompetitionOpenSinceYear has 31.7605% missing values \n",
      "\n",
      "Column Promo2SinceWeek has 49.0959% missing values \n",
      "\n",
      "Column Promo2SinceYear has 49.0959% missing values \n",
      "\n",
      "Column PromoInterval has 49.0959% missing values \n",
      "\n"
     ]
    }
   ],
   "source": [
    "null_values(data)"
   ]
  },
  {
   "cell_type": "code",
   "execution_count": 5,
   "metadata": {},
   "outputs": [
    {
     "data": {
      "text/plain": [
<<<<<<< HEAD
       "<matplotlib.axes._subplots.AxesSubplot at 0x7fda588e5a00>"
=======
<<<<<<< HEAD
       "<matplotlib.axes._subplots.AxesSubplot at 0x7fb092b637d0>"
=======
       "<matplotlib.axes._subplots.AxesSubplot at 0x7f83d05c4a00>"
>>>>>>> dd24a1da70c5281f48c606faab01c4fce1038c4c
>>>>>>> 00372ca6dcc2bb25cb9623a154e33ce842f8d58e
      ]
     },
     "execution_count": 5,
     "metadata": {},
     "output_type": "execute_result"
    },
    {
     "data": {
<<<<<<< HEAD
      "image/png": "iVBORw0KGgoAAAANSUhEUgAAAYsAAAEICAYAAACuxNj9AAAABHNCSVQICAgIfAhkiAAAAAlwSFlzAAALEgAACxIB0t1+/AAAADh0RVh0U29mdHdhcmUAbWF0cGxvdGxpYiB2ZXJzaW9uMy4yLjEsIGh0dHA6Ly9tYXRwbG90bGliLm9yZy+j8jraAAAbU0lEQVR4nO3dfZQV9Z3n8fdHEJ+igtIBAjiwCTGLM1Gxo4zkmEQioskEd9YYMpPYYcl2cgbduJMMqzN7wkTjOYbdGaOTiGGFBDJGJT4ceoyJIejkwQS18RnQ0FEJ9KGltQEzalTwu3/Ur/V67Us1cOve2/bndc49t+pXv6r6Xg/yoX71pIjAzMxsTw6odwFmZtb4HBZmZpbLYWFmZrkcFmZmlsthYWZmuRwWZmaWq9CwkPQ/Ja2T9JikGyQdLGmipHsldUi6SdKw1PegNN+Rlk8o2c4lqf0JSWcWWbOZmb2VirrPQtJY4FfA5Ih4SdIK4A7gbODWiLhR0rXAwxGxSNLfAO+PiC9Kmg38l4j4lKTJwA3AycC7gJ8B742I3ZX2PXLkyJgwYUIhv8vM7O1q7dq1z0ZEU1/Lhha876HAIZJeBQ4FtgKnA3+Vli8D/hFYBMxK0wA3A9+SpNR+Y0S8DDwlqYMsOH5TaacTJkygvb296j/GzOztTNKmSssKG4aKiE7g/wK/JwuJncBaYEdE7ErdtgBj0/RYYHNad1fqf3Rpex/rvE5Sq6R2Se3d3d3V/0FmZoNYYWEhaQTZUcFEsuGjw4CZRe0vIhZHRHNENDc19XkUZWZm+6jIE9wfBZ6KiO6IeBW4FZgGDJfUO/w1DuhM053AeIC0/EjgudL2PtYxM7MaKDIsfg9MlXRoOvcwHVgP3A2cm/q0ACvTdFuaJy2/K7Kz723A7HS11ERgEnBfgXWbmVmZwk5wR8S9km4GHgB2AQ8Ci4EfATdK+npqW5JWWQJ8P53A7gFmp+2sS1dSrU/bmbenK6HMzKz6Crt0tp6am5vDV0OZme0dSWsjormvZb6D28zMcjkszMwsV9E35b3tzJ8/n66uLkaPHs3ChQvrXY6ZWU0MmrA46e+WV2U7h6/byJCXn+f3z/6hKttc+3/Or0JVZmbF8jCUmZnlGjRHFtXy2rDD3vRtZjYYOCz20guTZtS7BDOzmvMwlJmZ5XJYmJlZLoeFmZnlcliYmVkuh4WZmeVyWJiZWS6HhZmZ5XJYmJlZLoeFmZnlcliYmVkuh4WZmeUqLCwkHSvpoZLP85IuknSUpFWSNqbvEam/JF0tqUPSI5KmlGyrJfXfKKmlqJrNzKxvhYVFRDwRESdExAnAScCLwG3AxcDqiJgErE7zAGcBk9KnFVgEIOkoYAFwCnAysKA3YMzMrDZqNQw1HfhdRGwCZgHLUvsy4Jw0PQtYHpk1wHBJY4AzgVUR0RMR24FVwMwa1W1mZtQuLGYDN6TpURGxNU13AaPS9Fhgc8k6W1JbpfY3kdQqqV1Se3d3dzVrNzMb9AoPC0nDgE8APyxfFhEBRDX2ExGLI6I5IpqbmpqqsUkzM0tqcWRxFvBARDyT5p9Jw0uk722pvRMYX7LeuNRWqd3MzGqkFmHxad4YggJoA3qvaGoBVpa0n5+uipoK7EzDVXcCMySNSCe2Z6Q2MzOrkUJfqyrpMOAM4AslzVcAKyTNBTYB56X2O4CzgQ6yK6fmAEREj6TLgPtTv0sjoqfIut/O5s+fT1dXF6NHj2bhwoX1LsfMBohCwyIiXgCOLmt7juzqqPK+AcyrsJ2lwNIiahxsurq66Oz0KJ7tG/9jY/AqNCysen5/6Z9VZTu7eo4ChrKrZ1NVtnnMVx/d/6JswPA/NgYvh8UgM/Lg14Bd6dsGg299+d+qtq0dz77w+nc1tnvBP/3Ffm/DasNhMch85f076l2CmQ1ADgsz67fDhh3xpm8bPBwWZtZv0979l/UuwerEjyg3M7NcDgszM8vlsDAzs1wOCzMzy+UT3Dag+A5is/pwWNiA4juIzerDYWE1Me1fplVlO8N2DOMADmDzjs1V2eY9F95TharM3v4cFjagxKHBa7xGHFqVd2aZWT85LGxAeXXaq/UuwWxQ8tVQZmaWy2FhZma5HBZmZpbL5yzMasj3idhAVfQ7uIcD1wF/CgTw34AngJuACcDTwHkRsV2SgKvI3sP9IvC5iHggbacF+N9ps1+PiGVF1m1W7uenfagq23lq6BB6JF7asqUq2/zQL35eharM8hU9DHUV8JOIeB9wPLABuBhYHRGTgNVpHuAsYFL6tAKLACQdBSwATgFOBhZIGlFw3WZmVqKwsJB0JHAasAQgIl6JiB3ALKD3yGAZcE6angUsj8waYLikMcCZwKqI6ImI7cAqYGZRdZsVaXgER0UwPHyfiA0sRQ5DTQS6ge9KOh5YC3wJGBURW1OfLmBUmh4LbC5Zf0tqq9T+JpJayY5IOOaYY6r3K8yq6DO7/e5zG5iKHIYaCkwBFkXEicALvDHkBEBEBNm5jP0WEYsjojkimpuamqqxSTMzS4oMiy3Aloi4N83fTBYez6ThJdL3trS8Exhfsv641Fap3czMaqSwsIiILmCzpGNT03RgPdAGtKS2FmBlmm4DzldmKrAzDVfdCcyQNCKd2J6R2szMrEaKvs/iQuB6ScOAJ4E5ZAG1QtJcYBNwXup7B9llsx1kl87OAYiIHkmXAfenfpdGRE/BdZuZWYlCwyIiHgKa+1g0vY++AcyrsJ2lwNLqVmdmg4lviNw/voPbzAYFvzhr/zgszKyhXf6Zc6uynZ5tO7Pvrq1V2+Y//OvNVdnOQOCwMLNB4eAhB7zp2/aOw8LMBoUTjz683iUMaI5YMzPL5bAwM7NcDgszM8vlsDAzs1wOCzMzy+WwMDOzXA4LMzPL5bAwM7NcDgszM8vlsDAzs1wOCzMzy+WwMDOzXA4LMzPL5bAwM7NchYaFpKclPSrpIUntqe0oSaskbUzfI1K7JF0tqUPSI5KmlGynJfXfKKmlyJrNzOytanFk8ZGIOCEiet/FfTGwOiImAavTPMBZwKT0aQUWQRYuwALgFOBkYEFvwJiZWW3UYxhqFrAsTS8DzilpXx6ZNcBwSWOAM4FVEdETEduBVcDMWhdtZjaYFR0WAfxU0lpJraltVERsTdNdwKg0PRbYXLLultRWqf1NJLVKapfU3t3dXc3fYGY26BX9WtUPRkSnpHcCqyQ9XrowIkJSVGNHEbEYWAzQ3NxclW2amVmm0COLiOhM39uA28jOOTyThpdI39tS905gfMnq41JbpXYzM6uRwsJC0mGSDu+dBmYAjwFtQO8VTS3AyjTdBpyfroqaCuxMw1V3AjMkjUgntmekNjMzq5Eih6FGAbdJ6t3PDyLiJ5LuB1ZImgtsAs5L/e8AzgY6gBeBOQAR0SPpMuD+1O/SiOgpsG4zMytTWFhExJPA8X20PwdM76M9gHkVtrUUWFrtGs3MrH98B7eZmeVyWJiZWS6HhZmZ5XJYmJlZLoeFmZnlcliYmVkuh4WZmeVyWJiZWS6HhZmZ5drrsJB0gKQjiijGzMwaU7/CQtIPJB2RHgj4GLBe0t8VW5qZmTWK/h5ZTI6I58neavdjYCLw2cKqMjOzhtLfsDhQ0oFkYdEWEa+SvQXPzMwGgf6GxXeAp4HDgF9I+hPg+aKKMjOzxtKvR5RHxNXA1SVNmyR9pJiSzMys0fT3BPcoSUsk/TjNT+aNt92ZmdnbXH+Hob5H9irTd6X53wIXFVGQmZk1nv6GxciIWAG8BhARu4DdhVVlZmYNpb9h8YKko0lXQEmaCuzsz4qShkh6UNLtaX6ipHsldUi6SdKw1H5Qmu9IyyeUbOOS1P6EpDP34veZmVkV9Dcs/hZoA94t6R5gOXBhP9f9ErChZP4bwJUR8R5gOzA3tc8Ftqf2K1O/3vMjs4HjgJnANZKG9HPfZmZWBf0Ki4h4APgQcCrwBeC4iHgkbz1J44CPAdeleQGnAzenLsvI7t0AmJXmScunp/6zgBsj4uWIeAroAE7uT91mZlYde7x0VtJfVlj0XklExK052/8mMB84PM0fDexI5zwAtgBj0/RYYDNk50Qk7Uz9xwJrSrZZuk5pra1AK8AxxxyTU5aZme2NvPss/mIPywKoGBaSPg5si4i1kj68D7XtlYhYDCwGaG5u9t3lZmZVtMewiIg5+7HtacAnJJ0NHAwcAVwFDJc0NB1djAM6U/9OYDywRdJQ4EjguZL2XqXrmJlZDfT7EeWSPiZpvqSv9n721D8iLomIcRExgewE9V0R8dfA3cC5qVsLsDJNt/HGjX7npv6R2menq6UmApOA+/pbt5mZ7b9+Pe5D0rXAocBHyE5Wn8u+/4X9v4AbJX0deBBYktqXAN+X1AH0kAUMEbFO0gpgPbALmBcRvsfDzKyG+hUWwKkR8X5Jj0TE1yT9E9mjyvslIv4d+Pc0/SR9XM0UEX8EPllh/cuBy/u7PzMzq67+DkO9lL5flPQusn/hjymmJDMzazT9PbK4XdJwYCGwNrVdV0xJZmbWaPLus/gAsDkiLkvz7wAeBR4nu8vazMwGgbxhqO8ArwBIOg24IrXtJN3TYGZmb395w1BDIqInTX8KWBwRtwC3SHqo2NLMzKxR5B1ZDEk3yAFMB+4qWdbf8x1mZjbA5f2FfwPwc0nPkl0R9UsASe+hn48oNzOzgS/vcR+XS1pNdpnsT9Md1ZAdkfT3EeVmZjbA5Q4lRcSaPtp+W0w5ZmbWiPr9bCgzMxu8HBZmZpbLYWFmZrkcFmZmlsthYWZmuRwWZmaWy2FhZma5HBZmZpbLYWFmZrkKCwtJB0u6T9LDktZJ+lpqnyjpXkkdkm6SNCy1H5TmO9LyCSXbuiS1PyHpzKJqNjOzvhV5ZPEycHpEHA+cAMyUNBX4BnBlRLwH2A7MTf3nAttT+5WpH5ImA7OB44CZwDWShhRYt5mZlSksLCLzH2n2wPQJ4HTg5tS+DDgnTc9K86Tl0yUptd8YES9HxFNAB3ByUXWbmdlbFXrOQtKQ9JKkbcAq4HfAjojYlbpsAcam6bHAZoC0fCdwdGl7H+uU7qtVUruk9u7u7iJ+jpnZoFVoWETE7og4ARhHdjTwvgL3tTgimiOiuampqajdmJkNSjW5GioidgB3A38ODC95+944oDNNdwLjAdLyI4HnStv7WMfMzGqgyKuhmiQNT9OHAGcAG8hC49zUrQVYmabb0jxp+V3pZUttwOx0tdREYBJwX1F1m5nZWxX5Hu0xwLJ05dIBwIqIuF3SeuBGSV8HHgSWpP5LgO9L6gB6yK6AIiLWSVoBrAd2AfMiYneBdZuZWZnCwiIiHgFO7KP9Sfq4miki/gh8ssK2Lgcur3aNZmbWP76D28zMcjkszMwsl8PCzMxyOSzMzCyXw8LMzHI5LMzMLJfDwszMcjkszMwsl8PCzMxyOSzMzCyXw8LMzHI5LMzMLJfDwszMcjkszMwsl8PCzMxyOSzMzCyXw8LMzHI5LMzMLFdhYSFpvKS7Ja2XtE7Sl1L7UZJWSdqYvkekdkm6WlKHpEckTSnZVkvqv1FSS1E1m5lZ34o8stgFfDkiJgNTgXmSJgMXA6sjYhKwOs0DnAVMSp9WYBFk4QIsAE4he3f3gt6AMTOz2igsLCJia0Q8kKb/AGwAxgKzgGWp2zLgnDQ9C1gemTXAcEljgDOBVRHRExHbgVXAzKLqNjOzt6rJOQtJE4ATgXuBURGxNS3qAkal6bHA5pLVtqS2Su3l+2iV1C6pvbu7u6r1m5kNdoWHhaR3ALcAF0XE86XLIiKAqMZ+ImJxRDRHRHNTU1M1NmlmZkmhYSHpQLKguD4ibk3Nz6ThJdL3ttTeCYwvWX1caqvUbmZmNVLk1VAClgAbIuKfSxa1Ab1XNLUAK0vaz09XRU0FdqbhqjuBGZJGpBPbM1KbmZnVyNACtz0N+CzwqKSHUtvfA1cAKyTNBTYB56VldwBnAx3Ai8AcgIjokXQZcH/qd2lE9BRYt5mZlSksLCLiV4AqLJ7eR/8A5lXY1lJgafWqMzOzveE7uM3MLJfDwszMcjkszMwsl8PCzMxyOSzMzCyXw8LMzHI5LMzMLJfDwszMcjkszMwsl8PCzMxyOSzMzCyXw8LMzHI5LMzMLJfDwszMcjkszMwsl8PCzMxyOSzMzCyXw8LMzHIVFhaSlkraJumxkrajJK2StDF9j0jtknS1pA5Jj0iaUrJOS+q/UVJLUfWamVllRR5ZfA+YWdZ2MbA6IiYBq9M8wFnApPRpBRZBFi7AAuAU4GRgQW/AmJlZ7RQWFhHxC6CnrHkWsCxNLwPOKWlfHpk1wHBJY4AzgVUR0RMR24FVvDWAzMysYLU+ZzEqIram6S5gVJoeC2wu6bcltVVqfwtJrZLaJbV3d3dXt2ozs0Gubie4IyKAqOL2FkdEc0Q0NzU1VWuzZmZG7cPimTS8RPrelto7gfEl/caltkrtZmZWQ7UOizag94qmFmBlSfv56aqoqcDONFx1JzBD0oh0YntGajMzsxoaWtSGJd0AfBgYKWkL2VVNVwArJM0FNgHnpe53AGcDHcCLwByAiOiRdBlwf+p3aUSUnzQ3M7OCFRYWEfHpCoum99E3gHkVtrMUWFrF0szMbC/5Dm4zM8vlsDAzs1wOCzMzy+WwMDOzXA4LMzPL5bAwM7NcDgszM8vlsDAzs1wOCzMzy+WwMDOzXA4LMzPL5bAwM7NcDgszM8vlsDAzs1yFPaLczMyqZ/78+XR1dTF69GgWLlxY8/07LMzMBoCuri46O+v3VmmHhZlZgTZcfldVtvNKz0uvf1djm//5H07fq/4OCzOzAeDog49803etDZiwkDQTuAoYAlwXEVfUuSQzs5q54MS/quv+B8TVUJKGAN8GzgImA5+WNLm+VZmZDR4DIiyAk4GOiHgyIl4BbgRm1bkmM7NBQxFR7xpySToXmBkRn0/znwVOiYgLSvq0Aq1p9ljgiQJLGgk8W+D2i+b668v1189Arh2Kr/9PIqKprwUD5pxFnohYDCyuxb4ktUdEcy32VQTXX1+uv34Gcu1Q3/oHyjBUJzC+ZH5cajMzsxoYKGFxPzBJ0kRJw4DZQFudazIzGzQGxDBUROySdAFwJ9mls0sjYl0dS6rJcFeBXH99uf76Gci1Qx3rHxAnuM3MrL4GyjCUmZnVkcPCzMxyOSwqkLRU0jZJj1VYLklXS+qQ9IikKbWucU8kjZd0t6T1ktZJ+lIffRr2N0g6WNJ9kh5O9X+tjz4HSbop1X+vpAm1r7QySUMkPSjp9j6WNXrtT0t6VNJDktr7WN6wf3YAJA2XdLOkxyVtkPTnZcsbtn5Jx6b/7r2f5yVdVNan9vVHhD99fIDTgCnAYxWWnw38GBAwFbi33jWX1TcGmJKmDwd+C0weKL8h1fSONH0gcC8wtazP3wDXpunZwE31rrusvr8FfgDc3seyRq/9aWDkHpY37J+dVN8y4PNpehgwfCDVX1LnEKCL7Ga5utbvI4sKIuIXQM8euswClkdmDTBc0pjaVJcvIrZGxANp+g/ABmBsWbeG/Q2ppv9IswemT/nVGLPI/lIAuBmYLkk1KnGPJI0DPgZcV6FLw9beTw37Z0fSkWT/2FsCEBGvRMSOsm4NW3+Z6cDvImJTWXvN63dY7LuxwOaS+S289S/jhpCGOE4k+9d5qYb+DWkY5yFgG7AqIirWHxG7gJ3A0bWtsqJvAvOB1yosb+TaIQvmn0pamx6lU66R/+xMBLqB76ZhwOskHVbWp5HrLzUbuKGP9prX77B4m5P0DuAW4KKIeL7e9eyNiNgdESeQ3bF/sqQ/rXdN/SHp48C2iFhb71r2wwcjYgrZk57nSTqt3gXthaFkQ8iLIuJE4AXg4vqWtPfSDcifAH5Y71rAYbE/Gv4RJJIOJAuK6yPi1j66NPxvAEhDCHcDM8sWvV6/pKHAkcBzta2uT9OAT0h6muwJyadL+teyPo1aOwAR0Zm+twG3kT35uVQj/9nZAmwpORK9mSw8SjVy/b3OAh6IiGf6WFbz+h0W+64NOD9dlTAV2BkRW+tdVK80/r0E2BAR/1yhW8P+BklNkoan6UOAM4DHy7q1AS1p+lzgrkhn/+opIi6JiHERMYFsGOGuiPhMWbeGrB1A0mGSDu+dBmYA5VcFNuyfnYjoAjZLOjY1TQfWl3Vr2PpLfJq+h6CgDvUPiMd91IOkG4APAyMlbQEWkJ1kJSKuBe4guyKhA3gRmFOfSiuaBnwWeDSN+wP8PXAMDIjfMAZYpuzFVwcAKyLidkmXAu0R0UYWht+X1EF2McLs+pWbbwDVPgq4LZ1vHwr8ICJ+IumLMCD+7ABcCFyfhnKeBOYMpPpTSJ8BfKGkra71+3EfZmaWy8NQZmaWy2FhZma5HBZmZpbLYWFmZrkcFmZmlsthYYOepN3p6Z7rlD3l9suS9vn/DUkfVPbE3MfTp7VkWZOyp8w+KGmBpG+WLPuOpJ+VzF8o6ep92P8/SvrKvtZv1hffZ2EGL6XHiiDpnWRPij2C7N6avSJpdFr/nIh4QNJI4E5JnRHxI7IbxB6NiM9LagauKVn9eGCIpCERsRs4FVi5X7/MrEp8ZGFWIj3eohW4IN0dO0HSLyU9kD6nAkhaLumc3vUkXS9pFjAP+F7JE3+fJXug4MWSTgAWArPSjZJPAO+VdEh6UupLwEPAn6XNngrcI+ndkn6SHur3S0nvS/tsknSLpPvTZ1r575H03yX9ON0Fb7bPHBZmZSLiSbL3CLyT7Im3Z6SH6n0K6B0WWgJ8Dl5/JPapwI+A44DyBwi2A8dFxEPAV8neXXFCenT8g8AHSO8kANYAp0oaS3bT7GZgMXBhRJwEfIU3jkauAq6MiA8A/5Wyx6FLugD4ONlRzkv7+9/FBjcPQ5nt2YHAt9JRwW7gvQAR8XNJ10hqIvuL+paI2KW9fyXFr8mC5hDgN8BGsseydAO/Tk8NPhX4Ycm2D0rfHwUml7QfkfoDnE/2COtzIuLVvS3KrJzDwqyMpP9EFgzbyM5bPEN2PuEA4I8lXZcDnyF7rlPvs3nWAyfx5nMNJwHrKuzuHuCLwMHAt8lCYnL6/nXa547ecyplDiB7e2BpTaTweBTofbz7Uzk/2SyXh6HMSqQjhWuBb6WnwB4JbI2I18gezDikpPv3gIsAIqL3qabfBj6XjkSQdDTwDbJzFX35DdkQVFNEbEv77CZ7E9o96R0kT0n6ZNqeJB2f1v0p2QPzemsvDZQHyR5C1ybpXXv9H8KsjMPCDA7pvXQW+BnZX8JfS8uuAVokPQy8j+xFOgCk9wxsAL5b0raV7Gjj/0l6nOzoYGlE/FtfO46I7WThUHrk8Ruy8yUPp/m/BuamGtaRBQnA/wCaJT0iaT3ZEUrptn9Fdo7jR+mqLLN95qfOmu0jSYeSDfdMiYid9a7HrEg+sjDbB5I+SnZU8S8OChsMfGRhZma5fGRhZma5HBZmZpbLYWFmZrkcFmZmlsthYWZmuf4/c9Gnrsw3IzEAAAAASUVORK5CYII=\n",
=======
      "image/png": "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\n",
>>>>>>> 00372ca6dcc2bb25cb9623a154e33ce842f8d58e
      "text/plain": [
       "<Figure size 432x288 with 1 Axes>"
      ]
     },
     "metadata": {
      "needs_background": "light"
     },
     "output_type": "display_data"
    }
   ],
   "source": [
    "sns.barplot(x = \"DayOfWeek\", y = \"Sales\", data = data)"
   ]
  },
  {
   "cell_type": "code",
   "execution_count": 6,
   "metadata": {},
   "outputs": [
    {
     "data": {
      "text/plain": [
<<<<<<< HEAD
       "<matplotlib.axes._subplots.AxesSubplot at 0x7fda4aa5f9d0>"
=======
<<<<<<< HEAD
       "<matplotlib.axes._subplots.AxesSubplot at 0x7fb0926e0150>"
=======
       "<matplotlib.axes._subplots.AxesSubplot at 0x7f838008ef40>"
>>>>>>> dd24a1da70c5281f48c606faab01c4fce1038c4c
>>>>>>> 00372ca6dcc2bb25cb9623a154e33ce842f8d58e
      ]
     },
     "execution_count": 6,
     "metadata": {},
     "output_type": "execute_result"
    },
    {
     "data": {
      "image/png": "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\n",
      "text/plain": [
       "<Figure size 432x288 with 1 Axes>"
      ]
     },
     "metadata": {
      "needs_background": "light"
     },
     "output_type": "display_data"
    }
   ],
   "source": [
    "sns.barplot(x = \"StateHoliday\", y = \"Sales\", data = data)"
   ]
  },
  {
   "cell_type": "markdown",
   "metadata": {},
   "source": [
    "After dropping columns and encoding features, the data is ready to be fed to some models:\n",
    "\n",
    "1) linear regression with feature scaling\n",
    "\n",
    "2) extra trees\n",
    "\n",
    "3) random forest\n",
    "\n",
    "4) xgboost"
   ]
  },
  {
   "cell_type": "code",
   "execution_count": 7,
   "metadata": {},
   "outputs": [
    {
     "name": "stdout",
     "output_type": "stream",
     "text": [
      "the RMSPE of the linear regression model is 22.8542%\n"
     ]
    }
   ],
   "source": [
    "linear_regression(data)"
   ]
  },
  {
   "cell_type": "code",
   "execution_count": 8,
   "metadata": {},
   "outputs": [
    {
     "name": "stdout",
     "output_type": "stream",
     "text": [
<<<<<<< HEAD
      "the RMSPE of the extra trees model is 20.8579%\n"
=======
<<<<<<< HEAD
      "the RMSPE of the extra trees model is 13.9218%\n"
=======
      "the RMSPE of the extra trees model is 20.58%\n"
>>>>>>> dd24a1da70c5281f48c606faab01c4fce1038c4c
>>>>>>> 00372ca6dcc2bb25cb9623a154e33ce842f8d58e
     ]
    }
   ],
   "source": [
    "extra_trees_regressor(data)"
   ]
  },
  {
   "cell_type": "code",
   "execution_count": 9,
   "metadata": {},
   "outputs": [
    {
     "name": "stdout",
     "output_type": "stream",
     "text": [
<<<<<<< HEAD
      "the RMSPE of the random forest model is 18.9689%\n"
=======
<<<<<<< HEAD
      "the RMSPE of the random forest model is 12.4464%\n"
=======
      "the RMSPE of the random forest model is 18.7324%\n"
>>>>>>> dd24a1da70c5281f48c606faab01c4fce1038c4c
>>>>>>> 00372ca6dcc2bb25cb9623a154e33ce842f8d58e
     ]
    }
   ],
   "source": [
    "random_forest_regressor(data)"
   ]
  },
  {
   "cell_type": "code",
   "execution_count": 10,
   "metadata": {},
   "outputs": [
    {
     "name": "stdout",
     "output_type": "stream",
     "text": [
<<<<<<< HEAD
      "[11:08:31] WARNING: src/objective/regression_obj.cu:152: reg:linear is now deprecated in favor of reg:squarederror.\n",
      "the RMSPE of the boosted trees model is 19.1908%\n"
=======
<<<<<<< HEAD
      "the RMSPE of the boosted trees model is 8.6943%\n"
=======
      "[10:50:12] WARNING: src/objective/regression_obj.cu:152: reg:linear is now deprecated in favor of reg:squarederror.\n",
      "the RMSPE of the boosted trees model is 16.4354%\n"
>>>>>>> dd24a1da70c5281f48c606faab01c4fce1038c4c
>>>>>>> 00372ca6dcc2bb25cb9623a154e33ce842f8d58e
     ]
    }
   ],
   "source": [
    "xgb_regressor(data)"
   ]
  },
  {
   "cell_type": "code",
   "execution_count": null,
   "metadata": {},
   "outputs": [],
   "source": []
  }
 ],
 "metadata": {
  "kernelspec": {
   "display_name": "Python 3",
   "language": "python",
   "name": "python3"
  },
  "language_info": {
   "codemirror_mode": {
    "name": "ipython",
    "version": 3
   },
   "file_extension": ".py",
   "mimetype": "text/x-python",
   "name": "python",
   "nbconvert_exporter": "python",
   "pygments_lexer": "ipython3",
   "version": "3.7.6"
  }
 },
 "nbformat": 4,
 "nbformat_minor": 4
}
